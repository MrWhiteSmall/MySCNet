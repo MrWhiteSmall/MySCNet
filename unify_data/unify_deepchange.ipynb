{
 "cells": [
  {
   "cell_type": "markdown",
   "id": "bb3a9626",
   "metadata": {},
   "source": [
    "/root/datasets/DeepChangeDataset/\n",
    "\n",
    "两个gallery 和 query\n",
    "\n",
    "先随便拿一个做数据集\n",
    "\n",
    "注意  camid 是 从.txt 中取出最后一个数字"
   ]
  },
  {
   "cell_type": "code",
   "execution_count": 2,
   "id": "3f99bba2",
   "metadata": {},
   "outputs": [],
   "source": [
    "import os,shutil\n",
    "from os.path import join as osj\n",
    "from tqdm import tqdm"
   ]
  },
  {
   "cell_type": "code",
   "execution_count": 4,
   "id": "3cc7e54f",
   "metadata": {},
   "outputs": [
    {
     "name": "stdout",
     "output_type": "stream",
     "text": [
      "Processing train-set to train\n",
      "Processing val-set-query to query\n",
      "Processing val-set-gallery to gallery\n",
      "Processing processed to processed\n"
     ]
    }
   ],
   "source": [
    "for oridir,tardir in zip(['train-set', 'val-set-query','val-set-gallery','processed'], \n",
    "                         ['train', 'query','gallery','processed']):\n",
    "    dir = f'/root/datasets/DeepChangeDataset/{oridir}'\n",
    "    tar_dir = f'/root/datasets/DeepChangeDataset_my/{tardir}'\n",
    "    txtfile = f'/root/datasets/DeepChangeDataset/{oridir}-bbox.txt'\n",
    "    print(f'Processing {oridir} to {tardir}')\n",
    "    # break"
   ]
  },
  {
   "cell_type": "code",
   "execution_count": null,
   "id": "87960471",
   "metadata": {},
   "outputs": [],
   "source": [
    "# processed 需要额外处理\n",
    "for oridir,tardir in zip(['train-set', 'val-set-query','val-set-gallery',], \n",
    "                         ['train', 'query','gallery',]):\n",
    "    dir = f'/root/datasets/DeepChangeDataset/{oridir}'\n",
    "    tar_dir = f'/root/datasets/DeepChangeDataset_my/{tardir}'\n",
    "    txtfile = f'/root/datasets/DeepChangeDataset/{oridir}-bbox.txt'\n",
    "    os.makedirs(tar_dir, exist_ok=True)\n",
    "    \n",
    "    with open(txtfile, 'r') as f:\n",
    "        lines = f.readlines()\n",
    "        for line in tqdm(lines):\n",
    "            # print(line)\n",
    "            filename,camid = line.strip().split(',')\n",
    "\n",
    "            name,ext = os.path.splitext(filename)\n",
    "            name_split = name.split('_')\n",
    "            idx = name_split[0][1:]\n",
    "            cloid = name_split[3]\n",
    "            random_frame = name_split[-2] # 001\n",
    "            # print(random_frame)\n",
    "            \n",
    "            # '{:04d}_'.format(idx) \n",
    "            # save_name = f'{int(idx):04d}' + '_' + cloid + '_' + camid + '_' + random_frame + ext\n",
    "            save_name = f'{int(idx):04d}' + '_' + f'{int(camid):04d}' + '_' + f'{int(cloid)}' + '_' + random_frame + ext\n",
    "            save_path = osj(tar_dir,save_name)\n",
    "            # print(save_path)\n",
    "            shutil.copy(osj(dir,filename), save_path)\n",
    "            # break\n",
    "    # break"
   ]
  },
  {
   "cell_type": "markdown",
   "id": "80d8c9ed",
   "metadata": {},
   "source": [
    "# processed 需要额外处理"
   ]
  },
  {
   "cell_type": "code",
   "execution_count": 18,
   "id": "6ce45931",
   "metadata": {},
   "outputs": [
    {
     "name": "stderr",
     "output_type": "stream",
     "text": [
      "100%|██████████| 75083/75083 [00:04<00:00, 17747.82it/s]\n"
     ]
    }
   ],
   "source": [
    "for oridir,tardir in zip(['processed'], ['processed']):\n",
    "    dir = f'/root/datasets/DeepChangeDataset/{oridir}'\n",
    "    tar_dir = f'/root/datasets/DeepChangeDataset_my/{tardir}'\n",
    "    txtfile = f'/root/datasets/DeepChangeDataset/train-set-bbox.txt'\n",
    "    os.makedirs(tar_dir, exist_ok=True)\n",
    "\n",
    "    with open(txtfile, 'r') as f:\n",
    "        lines = f.readlines()\n",
    "        for line in tqdm(lines):\n",
    "            # print(line)\n",
    "            filename,camid = line.strip().split(',')\n",
    "            filename = filename.replace('.jpg','.png')\n",
    "\n",
    "            name,ext = os.path.splitext(filename)\n",
    "            # ext = '.png'\n",
    "            name_split = name.split('_')\n",
    "            idx = name_split[0][1:]\n",
    "            cloid = name_split[3]\n",
    "            random_frame = name_split[-2] # 001\n",
    "            # print(random_frame)\n",
    "            \n",
    "            # '{:04d}_'.format(idx) \n",
    "            # save_name = f'{int(idx):04d}' + '_' + cloid + '_' + camid + '_' + random_frame + ext\n",
    "            save_name = f'{int(idx):04d}' + '_' + f'{int(camid):04d}' + '_' + f'{int(cloid)}' + '_' + random_frame + ext\n",
    "            save_path = osj(tar_dir,save_name)\n",
    "            # print(save_path)\n",
    "            shutil.copy(osj(dir,filename), save_path)\n",
    "    #         break\n",
    "    # break"
   ]
  }
 ],
 "metadata": {
  "kernelspec": {
   "display_name": "cat",
   "language": "python",
   "name": "python3"
  },
  "language_info": {
   "codemirror_mode": {
    "name": "ipython",
    "version": 3
   },
   "file_extension": ".py",
   "mimetype": "text/x-python",
   "name": "python",
   "nbconvert_exporter": "python",
   "pygments_lexer": "ipython3",
   "version": "3.8.20"
  }
 },
 "nbformat": 4,
 "nbformat_minor": 5
}
