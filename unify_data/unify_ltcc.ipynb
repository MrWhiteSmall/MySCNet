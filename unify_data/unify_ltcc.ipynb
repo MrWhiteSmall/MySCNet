{
 "cells": [
  {
   "cell_type": "markdown",
   "id": "bb3a9626",
   "metadata": {},
   "source": [
    "ltcc id_clo_cam_..\n",
    "\n",
    "vcc id_cam_clo_.."
   ]
  },
  {
   "cell_type": "code",
   "execution_count": 1,
   "id": "3f99bba2",
   "metadata": {},
   "outputs": [],
   "source": [
    "import os,shutil\n",
    "from os.path import join as osj\n",
    "from tqdm import tqdm"
   ]
  },
  {
   "cell_type": "code",
   "execution_count": 2,
   "id": "3cc7e54f",
   "metadata": {},
   "outputs": [
    {
     "name": "stdout",
     "output_type": "stream",
     "text": [
      "Processing train to train\n",
      "Processing query to query\n",
      "Processing test to gallery\n",
      "Processing processed to processed\n"
     ]
    }
   ],
   "source": [
    "for oridir,tardir in zip(['train', 'query','test','processed'], ['train','query', 'gallery','processed']):\n",
    "    dir = f'/root/datasets/LTCC_ReID/{oridir}'\n",
    "    tar_dir = f'/root/datasets/LTCC_ReID_my/{tardir}'\n",
    "    print(f'Processing {oridir} to {tardir}')\n",
    "    # break"
   ]
  },
  {
   "cell_type": "code",
   "execution_count": 6,
   "id": "87960471",
   "metadata": {},
   "outputs": [
    {
     "name": "stderr",
     "output_type": "stream",
     "text": [
      "100%|██████████| 9576/9576 [00:01<00:00, 9448.42it/s]\n",
      "100%|██████████| 493/493 [00:00<00:00, 9742.02it/s]\n",
      "100%|██████████| 7050/7050 [00:00<00:00, 9743.17it/s]\n",
      "100%|██████████| 9576/9576 [00:00<00:00, 18053.36it/s]\n"
     ]
    }
   ],
   "source": [
    "for oridir,tardir in zip(['train', 'query','test','processed'], ['train','query', 'gallery','processed']):\n",
    "    dir = f'/root/datasets/LTCC_ReID/{oridir}'\n",
    "    tar_dir = f'/root/datasets/LTCC_ReID_my/{tardir}'\n",
    "\n",
    "    os.makedirs(tar_dir, exist_ok=True)\n",
    "    # for idx in  tqdm(os.listdir(dir)):\n",
    "        # subdir = osj(dir,idx)\n",
    "    for file in tqdm(os.listdir(dir)):\n",
    "        name,ext = os.path.splitext(file)\n",
    "        name_split = name.split('_')\n",
    "        random_frame = name_split[-1][-3:] # 001\n",
    "        # print(random_frame)\n",
    "        \n",
    "        idx = name_split[0]\n",
    "        cloid = name_split[1]\n",
    "        camid = name_split[2][1:] # remove 'c'\n",
    "        \n",
    "        # '{:04d}_'.format(idx) \n",
    "        save_name = f'{int(idx):04d}' + '_' + f'{int(camid):02d}' + '_' + f'{int(cloid):02d}' + '_' + random_frame + ext\n",
    "        save_path = osj(tar_dir,save_name)\n",
    "        # print(save_path)\n",
    "        shutil.copy(osj(dir,file), save_path)\n",
    "    #     break\n",
    "    # break"
   ]
  }
 ],
 "metadata": {
  "kernelspec": {
   "display_name": "cat",
   "language": "python",
   "name": "python3"
  },
  "language_info": {
   "codemirror_mode": {
    "name": "ipython",
    "version": 3
   },
   "file_extension": ".py",
   "mimetype": "text/x-python",
   "name": "python",
   "nbconvert_exporter": "python",
   "pygments_lexer": "ipython3",
   "version": "3.8.20"
  }
 },
 "nbformat": 4,
 "nbformat_minor": 5
}
