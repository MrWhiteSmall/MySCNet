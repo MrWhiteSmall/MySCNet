{
 "cells": [
  {
   "cell_type": "code",
   "execution_count": null,
   "id": "6ab4d66f",
   "metadata": {},
   "outputs": [],
   "source": [
    "/root/datasets/prcc_my/processed/\n",
    "\n",
    "/root/datasets/prcc_my/train\n",
    "\n",
    "两个文件需要文件名都相同"
   ]
  },
  {
   "cell_type": "code",
   "execution_count": null,
   "id": "40f74328",
   "metadata": {},
   "outputs": [
    {
     "name": "stdout",
     "output_type": "stream",
     "text": [
      "Number of files in processed directory: 17890\n",
      "Number of files in processed directory: 17890\n",
      "Number of files in train directory: 17890\n",
      "Number of files in train directory: 17890\n",
      "Number of files in diff directory: 0\n"
     ]
    }
   ],
   "source": [
    "processed_dir = '/root/datasets/prcc_my/processed/'\n",
    "train_dir = '/root/datasets/prcc_my/train'\n",
    "import os\n",
    "from tqdm import tqdm\n",
    "processed_files = [os.path.splitext(fn)[0] for fn in os.listdir(processed_dir)]\n",
    "train_files = [os.path.splitext(fn)[0] for fn in os.listdir(train_dir)]\n",
    "print(f\"Number of files in processed directory: {len(processed_files)}\")\n",
    "print(f\"Number of files in processed directory: {len(set(processed_files))}\")\n",
    "\n",
    "print(f\"Number of files in train directory: {len(train_files)}\")\n",
    "print(f\"Number of files in train directory: {len(set(train_files))}\")\n",
    "# 求两个列表的差集\n",
    "diff_files = set(processed_files) - set(train_files)\n",
    "print(f\"Number of files in diff directory: {len(diff_files)}\")\n"
   ]
  },
  {
   "cell_type": "code",
   "execution_count": 21,
   "id": "032a4b71",
   "metadata": {},
   "outputs": [
    {
     "name": "stderr",
     "output_type": "stream",
     "text": [
      "100%|██████████| 17888/17888 [00:02<00:00, 7362.85it/s]\n"
     ]
    }
   ],
   "source": [
    "processed_dir = '/root/datasets/prcc_my/processed/'\n",
    "train_dir = '/root/datasets/prcc_my/train'\n",
    "# 检查 对应文件的 图片长宽是否一致\n",
    "import os\n",
    "from tqdm import tqdm\n",
    "processed_files = [os.path.splitext(fn)[0] for fn in os.listdir(processed_dir)]\n",
    "train_files = [os.path.splitext(fn)[0] for fn in os.listdir(train_dir)]\n",
    "from PIL import Image\n",
    "def check_image_size(file_path):\n",
    "    try:\n",
    "        with Image.open(file_path) as img:\n",
    "            return img.size\n",
    "    except Exception as e:\n",
    "        print(f\"Error opening image {file_path}: {e}\")\n",
    "        return None\n",
    "# process 是 png\n",
    "# train 是 jpg\n",
    "for file_name in tqdm(processed_files):\n",
    "    processed_file_path = os.path.join(processed_dir, file_name + '.png')\n",
    "    train_file_path = os.path.join(train_dir, file_name + '.jpg')\n",
    "    \n",
    "    processed_size = check_image_size(processed_file_path)\n",
    "    train_size = check_image_size(train_file_path)\n",
    "    \n",
    "    if processed_size and train_size:\n",
    "        if processed_size != train_size:\n",
    "            # 不匹配则删除两方的文件\n",
    "            os.remove(processed_file_path)\n",
    "            os.remove(train_file_path)\n",
    "            print(f\"Size mismatch for {file_name}: Processed {processed_size}, Train {train_size}\")\n",
    "    else:\n",
    "        print(f\"Could not verify size for {file_name}\")"
   ]
  },
  {
   "cell_type": "code",
   "execution_count": 11,
   "id": "235532a7",
   "metadata": {},
   "outputs": [
    {
     "name": "stdout",
     "output_type": "stream",
     "text": [
      "Number of files in processed directory: 9449\n",
      "Number of files in processed directory: 9449\n",
      "Number of files in train directory: 9449\n",
      "Number of files in train directory: 9449\n",
      "Number of files in diff directory: 0\n"
     ]
    }
   ],
   "source": [
    "processed_dir = '/root/datasets/VCC_my/processed/'\n",
    "train_dir = '/root/datasets/VCC_my/train'\n",
    "import os\n",
    "from tqdm import tqdm\n",
    "processed_files = [os.path.splitext(fn)[0] for fn in os.listdir(processed_dir)]\n",
    "train_files = [os.path.splitext(fn)[0] for fn in os.listdir(train_dir)]\n",
    "print(f\"Number of files in processed directory: {len(processed_files)}\")\n",
    "print(f\"Number of files in processed directory: {len(set(processed_files))}\")\n",
    "\n",
    "print(f\"Number of files in train directory: {len(train_files)}\")\n",
    "print(f\"Number of files in train directory: {len(set(train_files))}\")\n",
    "# 求两个列表的差集\n",
    "diff_files = set(processed_files) - set(train_files)\n",
    "print(f\"Number of files in diff directory: {len(diff_files)}\")\n"
   ]
  },
  {
   "cell_type": "code",
   "execution_count": 16,
   "id": "4c54c4a6",
   "metadata": {},
   "outputs": [
    {
     "name": "stderr",
     "output_type": "stream",
     "text": [
      "100%|██████████| 9449/9449 [00:01<00:00, 7332.03it/s]\n"
     ]
    }
   ],
   "source": [
    "processed_dir = '/root/datasets/VCC_my/processed/'\n",
    "train_dir = '/root/datasets/VCC_my/train'\n",
    "# 检查 对应文件的 图片长宽是否一致\n",
    "import os\n",
    "from tqdm import tqdm\n",
    "processed_files = [os.path.splitext(fn)[0] for fn in os.listdir(processed_dir)]\n",
    "train_files = [os.path.splitext(fn)[0] for fn in os.listdir(train_dir)]\n",
    "from PIL import Image\n",
    "def check_image_size(file_path):\n",
    "    try:\n",
    "        with Image.open(file_path) as img:\n",
    "            return img.size\n",
    "    except Exception as e:\n",
    "        print(f\"Error opening image {file_path}: {e}\")\n",
    "        return None\n",
    "# process 是 png\n",
    "# train 是 jpg\n",
    "for file_name in tqdm(processed_files):\n",
    "    processed_file_path = os.path.join(processed_dir, file_name + '.png')\n",
    "    train_file_path = os.path.join(train_dir, file_name + '.jpg')\n",
    "    \n",
    "    processed_size = check_image_size(processed_file_path)\n",
    "    train_size = check_image_size(train_file_path)\n",
    "    \n",
    "    if processed_size and train_size:\n",
    "        if processed_size != train_size:\n",
    "            print(f\"Size mismatch for {file_name}: Processed {processed_size}, Train {train_size}\")\n",
    "    else:\n",
    "        print(f\"Could not verify size for {file_name}\")"
   ]
  },
  {
   "cell_type": "code",
   "execution_count": 12,
   "id": "3b0cd156",
   "metadata": {},
   "outputs": [
    {
     "name": "stdout",
     "output_type": "stream",
     "text": [
      "Number of files in processed directory: 75083\n",
      "Number of files in processed directory: 75083\n",
      "Number of files in train directory: 75083\n",
      "Number of files in train directory: 75083\n",
      "Number of files in diff directory: 0\n"
     ]
    }
   ],
   "source": [
    "processed_dir = '/root/datasets/DeepChangeDataset_my/processed/'\n",
    "train_dir = '/root/datasets/DeepChangeDataset_my/train'\n",
    "import os\n",
    "from tqdm import tqdm\n",
    "processed_files = [os.path.splitext(fn)[0] for fn in os.listdir(processed_dir)]\n",
    "train_files = [os.path.splitext(fn)[0] for fn in os.listdir(train_dir)]\n",
    "print(f\"Number of files in processed directory: {len(processed_files)}\")\n",
    "print(f\"Number of files in processed directory: {len(set(processed_files))}\")\n",
    "\n",
    "print(f\"Number of files in train directory: {len(train_files)}\")\n",
    "print(f\"Number of files in train directory: {len(set(train_files))}\")\n",
    "# 求两个列表的差集\n",
    "diff_files = set(processed_files) - set(train_files)\n",
    "print(f\"Number of files in diff directory: {len(diff_files)}\")\n"
   ]
  },
  {
   "cell_type": "code",
   "execution_count": 17,
   "id": "e94cda41",
   "metadata": {},
   "outputs": [
    {
     "name": "stderr",
     "output_type": "stream",
     "text": [
      "100%|██████████| 75083/75083 [00:10<00:00, 7335.62it/s]\n"
     ]
    }
   ],
   "source": [
    "processed_dir = '/root/datasets/DeepChangeDataset_my/processed/'\n",
    "train_dir = '/root/datasets/DeepChangeDataset_my/train'\n",
    "# 检查 对应文件的 图片长宽是否一致\n",
    "import os\n",
    "from tqdm import tqdm\n",
    "processed_files = [os.path.splitext(fn)[0] for fn in os.listdir(processed_dir)]\n",
    "train_files = [os.path.splitext(fn)[0] for fn in os.listdir(train_dir)]\n",
    "from PIL import Image\n",
    "def check_image_size(file_path):\n",
    "    try:\n",
    "        with Image.open(file_path) as img:\n",
    "            return img.size\n",
    "    except Exception as e:\n",
    "        print(f\"Error opening image {file_path}: {e}\")\n",
    "        return None\n",
    "# process 是 png\n",
    "# train 是 jpg\n",
    "for file_name in tqdm(processed_files):\n",
    "    processed_file_path = os.path.join(processed_dir, file_name + '.png')\n",
    "    train_file_path = os.path.join(train_dir, file_name + '.jpg')\n",
    "    \n",
    "    processed_size = check_image_size(processed_file_path)\n",
    "    train_size = check_image_size(train_file_path)\n",
    "    \n",
    "    if processed_size and train_size:\n",
    "        if processed_size != train_size:\n",
    "            print(f\"Size mismatch for {file_name}: Processed {processed_size}, Train {train_size}\")\n",
    "    else:\n",
    "        print(f\"Could not verify size for {file_name}\")"
   ]
  },
  {
   "cell_type": "code",
   "execution_count": null,
   "id": "e4635ccd",
   "metadata": {},
   "outputs": [
    {
     "name": "stdout",
     "output_type": "stream",
     "text": [
      "Number of files in processed directory: 9576\n",
      "Number of files in processed directory: 9576\n",
      "Number of files in train directory: 9576\n",
      "Number of files in train directory: 9576\n",
      "Number of files in diff directory: 0\n"
     ]
    }
   ],
   "source": [
    "processed_dir = '/root/datasets/LTCC_ReID_my/processed/'\n",
    "train_dir = '/root/datasets/LTCC_ReID_my/train'\n",
    "import os\n",
    "from tqdm import tqdm\n",
    "processed_files = [os.path.splitext(fn)[0] for fn in os.listdir(processed_dir)]\n",
    "train_files = [os.path.splitext(fn)[0] for fn in os.listdir(train_dir)]\n",
    "print(f\"Number of files in processed directory: {len(processed_files)}\")\n",
    "print(f\"Number of files in processed directory: {len(set(processed_files))}\")\n",
    "\n",
    "print(f\"Number of files in train directory: {len(train_files)}\")\n",
    "print(f\"Number of files in train directory: {len(set(train_files))}\")\n",
    "# 求两个列表的差集\n",
    "diff_files = set(processed_files) - set(train_files)\n",
    "print(f\"Number of files in diff directory: {len(diff_files)}\")\n"
   ]
  },
  {
   "cell_type": "code",
   "execution_count": 19,
   "id": "cdf3e7aa",
   "metadata": {},
   "outputs": [
    {
     "name": "stderr",
     "output_type": "stream",
     "text": [
      "  0%|          | 0/9576 [00:00<?, ?it/s]"
     ]
    },
    {
     "name": "stderr",
     "output_type": "stream",
     "text": [
      "100%|██████████| 9576/9576 [00:01<00:00, 8681.86it/s]\n"
     ]
    }
   ],
   "source": [
    "processed_dir = '/root/datasets/LTCC_ReID_my/processed/'\n",
    "train_dir = '/root/datasets/LTCC_ReID_my/train'\n",
    "# 检查 对应文件的 图片长宽是否一致\n",
    "import os\n",
    "from tqdm import tqdm\n",
    "processed_files = [os.path.splitext(fn)[0] for fn in os.listdir(processed_dir)]\n",
    "train_files = [os.path.splitext(fn)[0] for fn in os.listdir(train_dir)]\n",
    "from PIL import Image\n",
    "def check_image_size(file_path):\n",
    "    try:\n",
    "        with Image.open(file_path) as img:\n",
    "            return img.size\n",
    "    except Exception as e:\n",
    "        print(f\"Error opening image {file_path}: {e}\")\n",
    "        return None\n",
    "# process 是 png\n",
    "# train 是 jpg\n",
    "for file_name in tqdm(processed_files):\n",
    "    processed_file_path = os.path.join(processed_dir, file_name + '.png')\n",
    "    train_file_path = os.path.join(train_dir, file_name + '.png')\n",
    "    \n",
    "    processed_size = check_image_size(processed_file_path)\n",
    "    train_size = check_image_size(train_file_path)\n",
    "    \n",
    "    if processed_size and train_size:\n",
    "        if processed_size != train_size:\n",
    "            print(f\"Size mismatch for {file_name}: Processed {processed_size}, Train {train_size}\")\n",
    "    else:\n",
    "        print(f\"Could not verify size for {file_name}\")"
   ]
  }
 ],
 "metadata": {
  "kernelspec": {
   "display_name": "cat",
   "language": "python",
   "name": "python3"
  },
  "language_info": {
   "codemirror_mode": {
    "name": "ipython",
    "version": 3
   },
   "file_extension": ".py",
   "mimetype": "text/x-python",
   "name": "python",
   "nbconvert_exporter": "python",
   "pygments_lexer": "ipython3",
   "version": "3.8.20"
  }
 },
 "nbformat": 4,
 "nbformat_minor": 5
}
