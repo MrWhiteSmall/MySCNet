{
 "cells": [
  {
   "cell_type": "code",
   "execution_count": 1,
   "id": "bb2bbd31",
   "metadata": {},
   "outputs": [],
   "source": [
    "import os,shutil\n",
    "from os.path import join as osj\n",
    "from tqdm import tqdm"
   ]
  },
  {
   "cell_type": "code",
   "execution_count": 2,
   "id": "47b0a93b",
   "metadata": {},
   "outputs": [
    {
     "name": "stdout",
     "output_type": "stream",
     "text": [
      "Processing train to train\n",
      "Processing query to query\n",
      "Processing gallery to gallery\n",
      "Processing processed to processed\n"
     ]
    }
   ],
   "source": [
    "for oridir,tardir in zip(['train', 'query','gallery','processed'], ['train','query', 'gallery','processed']):\n",
    "    dir = f'/root/datasets/VCC/{oridir}'\n",
    "    tar_dir = f'/root/datasets/VCC_my/{tardir}'\n",
    "    print(f'Processing {oridir} to {tardir}')\n",
    "    # break"
   ]
  },
  {
   "cell_type": "code",
   "execution_count": 4,
   "id": "ccc33b02",
   "metadata": {},
   "outputs": [
    {
     "name": "stderr",
     "output_type": "stream",
     "text": [
      "100%|██████████| 9449/9449 [00:00<00:00, 11494.16it/s]\n",
      "100%|██████████| 1020/1020 [00:00<00:00, 12040.08it/s]\n",
      "100%|██████████| 8591/8591 [00:00<00:00, 12194.03it/s]\n",
      "100%|██████████| 9449/9449 [00:00<00:00, 18552.44it/s]\n"
     ]
    }
   ],
   "source": [
    "for oridir,tardir in zip(['train', 'query','gallery','processed'], ['train','query', 'gallery','processed']):\n",
    "    dir = f'/root/datasets/VCC/{oridir}'\n",
    "    tar_dir = f'/root/datasets/VCC_my/{tardir}'\n",
    "\n",
    "    os.makedirs(tar_dir, exist_ok=True)\n",
    "    # for idx in  tqdm(os.listdir(dir)):\n",
    "        # subdir = osj(dir,idx)\n",
    "    for file in tqdm(os.listdir(dir)):\n",
    "        name,ext = os.path.splitext(file)\n",
    "        name_split = name.split('-')\n",
    "        # random_frame = name_split[-1]\n",
    "        # print(random_frame)\n",
    "        \n",
    "        # idx = name_split[0]\n",
    "        # cloid = name_split[1]\n",
    "        # camid = name_split[2][1:] # remove 'c'\n",
    "        \n",
    "        idx,camid,cloid,random_frame = name_split\n",
    "        \n",
    "        # '{:04d}_'.format(idx) \n",
    "        save_name = f'{int(idx):04d}' + '_' + f'{int(camid):02d}' + '_' + f'{int(cloid):02d}' + '_' + random_frame + ext\n",
    "        save_path = osj(tar_dir,save_name)\n",
    "        # print(osj(dir,file))\n",
    "        # print(save_path)\n",
    "        shutil.copy(osj(dir,file), save_path)\n",
    "    #     break\n",
    "    # break"
   ]
  }
 ],
 "metadata": {
  "kernelspec": {
   "display_name": "cat",
   "language": "python",
   "name": "python3"
  },
  "language_info": {
   "codemirror_mode": {
    "name": "ipython",
    "version": 3
   },
   "file_extension": ".py",
   "mimetype": "text/x-python",
   "name": "python",
   "nbconvert_exporter": "python",
   "pygments_lexer": "ipython3",
   "version": "3.8.20"
  }
 },
 "nbformat": 4,
 "nbformat_minor": 5
}
